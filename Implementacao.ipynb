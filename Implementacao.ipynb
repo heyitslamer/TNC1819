{
 "cells": [
  {
   "cell_type": "code",
   "execution_count": 1,
   "metadata": {
    "collapsed": false
   },
   "outputs": [
   ],
   "source": [
    "#funcao que resolve o problema da soma do subconjunto super crescente\n",
    "def supIncSum(seq, s):\n",
    "    n = len(seq) - 1\n",
    "    res = []\n",
    "    while n >= 0:\n",
    "        if s >= seq[n]:\n",
    "            res.append(1)\n",
    "            s -= seq[n]\n",
    "        else:\n",
    "            res.append(0)\n",
    "        n -= 1\n",
    "    res.reverse()\n",
    "    return res"
   ]
  },
  {
   "cell_type": "code",
   "execution_count": 2,
   "metadata": {
    "collapsed": false
   },
   "outputs": [
   ],
   "source": [
    "# constroi uma sequencia super crescente dado o tamanho da seq\n",
    "def randomSupIncSequence(n):\n",
    "    soma = 0\n",
    "    first = randint(1, 2 ** (n+1))\n",
    "    f = lambda x : x * randint(2, n) + randint(1, 2 ** n)\n",
    "    size = 1\n",
    "    res = [first]\n",
    "    soma += first\n",
    "    for i in range(n-1):\n",
    "        first = f(first)\n",
    "        res.append(first)\n",
    "        soma += first\n",
    "    return res, soma"
   ]
  },
  {
   "cell_type": "code",
   "execution_count": 3,
   "metadata": {
    "collapsed": false
   },
   "outputs": [
   ],
   "source": [
    "#Encontra M dado o valor total da soma de seq\n",
    "def findM(soma, n):\n",
    "    return randint(1, n) * soma + randint(1, 2 ** n)\n",
    "\n",
    "\n",
    "\n",
    "#Encontra um numero coprimo com o parametro (algoritmo brute force)\n",
    "def findW(M):\n",
    "    W = randrange(1, M)\n",
    "    while gcd(M, W) != 1:\n",
    "        W += 1\n",
    "    return W"
   ]
  },
  {
   "cell_type": "code",
   "execution_count": 4,
   "metadata": {
    "collapsed": false
   },
   "outputs": [
   ],
   "source": [
    "#Gerador de Permutações aleatorias\n",
    "def sattoloShuffle(n):\n",
    "    res = list(range(n))\n",
    "    while n > 1:\n",
    "        n -= 1\n",
    "        j = randrange(n)\n",
    "        res[j], res[n] = res[n], res[j]\n",
    "    return res"
   ]
  },
  {
   "cell_type": "code",
   "execution_count": 5,
   "metadata": {
    "collapsed": false
   },
   "outputs": [
   ],
   "source": [
    "#Geracao de chave simples\n",
    "def KSKeyGen(n):\n",
    "    seq, soma = randomSupIncSequence(n)\n",
    "    M = findM(soma, n)\n",
    "    zM = IntegerModRing(M)\n",
    "    W = zM(findW(M))\n",
    "    perm = sattoloShuffle(n)\n",
    "    privKey = (n, perm, M, W, seq)\n",
    "    pubKeylist = []\n",
    "    for i in range(n):\n",
    "        pubKeylist.append(ZZ(W * seq[perm[i]]))\n",
    "    pubKey = (n, pubKeylist)\n",
    "    print(\"Limite de cifracao: \" + str(2 ** n - 1))\n",
    "    return pubKey, privKey"
   ]
  },
  {
   "cell_type": "code",
   "execution_count": 6,
   "metadata": {
    "collapsed": false
   },
   "outputs": [
    {
     "name": "stdout",
     "output_type": "stream",
     "text": [
      "Limite de cifracao: 4294967295\n"
     ]
    }
   ],
   "source": [
    "p, P = KSKeyGen(32)"
   ]
  },
  {
   "cell_type": "code",
   "execution_count": 7,
   "metadata": {
    "collapsed": false
   },
   "outputs": [
   ],
   "source": [
    "def cifravel(mens, n):\n",
    "    return mens <= 2 ** n - 1\n",
    "\n",
    "#Encriptacao Simples\n",
    "def KSEncrypt(mensagem, pubKey):\n",
    "    n, pubKeylist = pubKey\n",
    "    if cifravel(mensagem, n):\n",
    "        c = 0\n",
    "        for ind, i in enumerate(map(int, format(mensagem, \"0\" + str(n) + \"b\"))):\n",
    "            c += i * pubKeylist[ind]\n",
    "        return c\n",
    "    else:\n",
    "        print(\"A mensagem ultrapassa o limite de cifracao\")\n",
    "        return []"
   ]
  },
  {
   "cell_type": "code",
   "execution_count": 8,
   "metadata": {
    "collapsed": false
   },
   "outputs": [
   ],
   "source": [
    "#Decriptacao Simples\n",
    "def KSDecrypt(criptograma, privKey):\n",
    "    n, perms, M, W, seq = privKey\n",
    "    zM = IntegerModRing(M)\n",
    "    wMod = zM(W)\n",
    "    d = wMod ^ -1 * criptograma\n",
    "    bits = supIncSum(seq, d)\n",
    "    msg = 0\n",
    "    for i in range(n):\n",
    "        bit = bits[perms[i]]\n",
    "        msg += bit * 2 ** (n-1)\n",
    "        n -= 1\n",
    "    return msg"
   ]
  },
  {
   "cell_type": "code",
   "execution_count": 9,
   "metadata": {
    "collapsed": false
   },
   "outputs": [
   ],
   "source": [
    "for k in range(1,30000):\n",
    "    if k != KSDecrypt(KSEncrypt(k, p), P):\n",
    "        print(k)"
   ]
  },
  {
   "cell_type": "code",
   "execution_count": 10,
   "metadata": {
    "collapsed": false
   },
   "outputs": [
   ],
   "source": [
    "#Geracao de chave Multi Iterada\n",
    "def MIKSKeyGen(n, t):\n",
    "    seq, soma = randomSupIncSequence(n)\n",
    "    seqj = seq\n",
    "    Ms = []\n",
    "    Ws = []\n",
    "    for j in range(t):\n",
    "        somaj = sum([ZZ(a) for a in seqj])\n",
    "        Mj = findM(somaj, n)\n",
    "        Ms.append(Mj)\n",
    "        Wj = findW(Mj)\n",
    "        Ws.append(Wj)\n",
    "        zMj = IntegerModRing(Mj)\n",
    "        seqj = [a * Wj for a in map(zMj, seqj)]\n",
    "    perms = sattoloShuffle(n)\n",
    "    pubKeylist = []\n",
    "    for i in range(n):\n",
    "        pubKeylist.append(seqj[perms[i]])\n",
    "    pubKey = n, pubKeylist\n",
    "    privKey = n, perms, Ms, Ws, seq\n",
    "    print(\"Limite de cifracao: \" + str(2 ** n - 1))\n",
    "    return pubKey, privKey"
   ]
  },
  {
   "cell_type": "code",
   "execution_count": 11,
   "metadata": {
    "collapsed": false,
    "scrolled": true
   },
   "outputs": [
    {
     "name": "stdout",
     "output_type": "stream",
     "text": [
      "Limite de cifracao: 179769313486231590772930519078902473361797697894230657273430081157732675805500963132708477322407536021120113879871393357658789768814416622492847430639474124377767893424865485276302219601246094119453082952085005768838150682342462881473913110540827237163350510684586298239947245938479716304835356329624224137215\n"
     ]
    }
   ],
   "source": [
    "p, P = MIKSKeyGen(1024, 126) # segundo argumento faz tempo de execucao disparar"
   ]
  },
  {
   "cell_type": "code",
   "execution_count": 12,
   "metadata": {
    "collapsed": false
   },
   "outputs": [
   ],
   "source": [
    "#Encriptacao Multi Iterada\n",
    "def MIKSEncrypt(mensagem, pubKey):\n",
    "    return KSEncrypt(mensagem, pubKey)"
   ]
  },
  {
   "cell_type": "code",
   "execution_count": 13,
   "metadata": {
    "collapsed": false
   },
   "outputs": [
   ],
   "source": [
    "#Decriptacao Multi Iterada\n",
    "def MIKSDecrypt(cripto, privKey):\n",
    "    n, perms, Ms, Ws, seq = privKey\n",
    "    dj = cripto\n",
    "    for Mj, Wj in zip(Ms[::-1], Ws[::-1]):\n",
    "        zMj = IntegerModRing(Mj)\n",
    "        Wjmod = zMj(Wj)\n",
    "        djmod = zMj(dj)\n",
    "        dj = Wjmod ** -1 * djmod\n",
    "    bits = supIncSum(seq, dj)\n",
    "    msg = 0\n",
    "    for i in range(n):\n",
    "        bit = bits[perms[i]]\n",
    "        msg += bit * 2 ** (n-1)\n",
    "        n -= 1\n",
    "    return msg"
   ]
  },
  {
   "cell_type": "code",
   "execution_count": 14,
   "metadata": {
    "collapsed": false
   },
   "outputs": [
    {
     "data": {
      "text/plain": [
       "332123"
      ]
     },
     "execution_count": 14,
     "metadata": {
     },
     "output_type": "execute_result"
    }
   ],
   "source": [
    "MIKSDecrypt(MIKSEncrypt(332123, p), P)"
   ]
  },
  {
   "cell_type": "code",
   "execution_count": 0,
   "metadata": {
    "collapsed": false
   },
   "outputs": [
   ],
   "source": [
   ]
  },
  {
   "cell_type": "code",
   "execution_count": 0,
   "metadata": {
    "collapsed": false
   },
   "outputs": [
   ],
   "source": [
   ]
  }
 ],
 "metadata": {
  "kernelspec": {
   "display_name": "SageMath (Development, Py3)",
   "language": "sagemath",
   "metadata": {
    "cocalc": {
     "description": "Open-source mathematical software system",
     "priority": -1,
     "url": "https://www.sagemath.org/"
    }
   },
   "name": "sage-develop"
  },
  "language_info": {
   "codemirror_mode": {
    "name": "ipython",
    "version": 3
   },
   "file_extension": ".py",
   "mimetype": "text/x-python",
   "name": "python",
   "nbconvert_exporter": "python",
   "pygments_lexer": "ipython3",
   "version": "3.7.3"
  }
 },
 "nbformat": 4,
 "nbformat_minor": 0
}